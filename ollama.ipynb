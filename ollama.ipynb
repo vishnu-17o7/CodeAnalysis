{
 "cells": [
  {
   "cell_type": "code",
   "execution_count": 58,
   "metadata": {},
   "outputs": [
    {
     "name": "stdout",
     "output_type": "stream",
     "text": [
      "Based on your code, I'll provide you with the requested responses:\n",
      "\n",
      "1. Complexity of the code:\n",
      "The complexity of the code is medium to high due to its recursive nature and use of complex data structures.\n",
      "\n",
      "2. Code coverage:\n",
      "The code has 100% test coverage since there are no tests provided for it.\n",
      "\n",
      "3. Code duplication:\n",
      "There is no direct code duplication, but there might be some indirect duplication in terms of repetitive logic or similar functionality.\n",
      "\n",
      "4. Find all the issues in the code:\n",
      "The code seems to have a few potential issues:\n",
      "- It does not handle exceptions properly.\n",
      "- The `prompts` dictionary is not defined anywhere, so it will raise an error when trying to access its values.\n",
      "- The `analyze_code` function is designed to process prompts and user input, but it does not validate the input or ensure that it is a valid code snippet.\n",
      "\n",
      "Here's the response in Python format:\n",
      "```\n",
      "{1: 'The complexity of the code is medium to high due to its recursive nature and use of complex data structures.', \n",
      "2: 'The code has 100% test coverage since there are no tests provided for it.', \n",
      "3: 'There is no direct code duplication, but there might be some indirect duplication in terms of repetitive logic or similar functionality.', \n",
      "4: 'The code seems to have a few potential issues:- It does not handle exceptions properly.- The `prompts` dictionary is not defined anywhere, so it will raise an error when trying to access its values.- The `analyze_code` function is designed to process prompts and user input, but it does not validate the input or ensure that it is a valid code snippet.'}\n",
      "```\n"
     ]
    }
   ],
   "source": [
    "from langchain_community.llms import Ollama\n",
    "ollama = Ollama(model=\"llama3\")\n",
    "\n",
    "def analyze_code(user_code):\n",
    "    \"\"\"metrics = {}\n",
    "    for key, value in prompts.items():\n",
    "        prompt = value + user_code\n",
    "        #convert prompt to string\n",
    "        prompt = str(prompt)\n",
    "        formatted_response = ollama.invoke(prompt)\n",
    "        metrics[key] = formatted_response\"\"\"\n",
    "    \"\"\"prompt = \"\"\n",
    "    i = 1\n",
    "    for key, value in prompts.items():\n",
    "        prompt = f\"i\" + \". \" + value + \"\\n\"\n",
    "        i += 1\"\"\"\n",
    "    prompt = \"1 : Calculate the complexity of the code,2: Determine the code coverage of the code,3: Identify code duplication in the code,4: Find all the issues in the code\" + \"Code : \" + user_code + \"Give the respone in the same format 1. 2. 3. 4. only give text based crisp and short answers for the given 4 prompts\\n Give it in dictionary format in python. only generate {} part, no other sentances. Do not use any markdown. the output should be in python format\"\n",
    "    formatted_response = ollama.invoke(prompt)\n",
    "    #print(prompt) \n",
    "    return formatted_response\n",
    "\n",
    "def get_user_code():\n",
    "    code = input(\"Enter your code:\\n\").strip()\n",
    "    return code\n",
    "\n",
    "user_code = get_user_code()\n",
    "\n",
    "#prompts = {1 : \"Calculate the complexity of the code\",2: \"Determine the code coverage of the code\",3: \"Identify code duplication in the code\",4: \"Find all the issues in the code\"}\n",
    "\n",
    "responese = analyze_code(user_code)\n",
    "responese2 = responese\n",
    "print(responese)"
   ]
  },
  {
   "cell_type": "code",
   "execution_count": 59,
   "metadata": {},
   "outputs": [
    {
     "name": "stdout",
     "output_type": "stream",
     "text": [
      "{1: \"'The complexity of the code is medium to high due to its recursive nature and use of complex data structures.', \", 2: \"'The code has 100% test coverage since there are no tests provided for it.', \", 3: \"'There is no direct code duplication, but there might be some indirect duplication in terms of repetitive logic or similar functionality.', \", 4: \"'The code seems to have a few potential issues:- It does not handle exceptions properly.- The `prompts` dictionary is not defined anywhere, so it will raise an error when trying to access its values.- The `analyze_code` function is designed to process prompts and user input, but it does not validate the input or ensure that it is a valid code snippet.'\"}\n"
     ]
    }
   ],
   "source": [
    "formatted_response = responese\n",
    "\n",
    "start_index = formatted_response.find(\"{\")\n",
    "end_index = formatted_response.find(\"}\")\n",
    "\n",
    "data_str = formatted_response[start_index + 1:end_index]\n",
    "\n",
    "pairs = data_str.split(\"\\n\")\n",
    "\n",
    "result = {}\n",
    "\n",
    "for pair in pairs:\n",
    "    key, value = pair.split(\": \", 1)\n",
    "    result[int(key)] = value.strip('\"')\n",
    "\n",
    "print(result)"
   ]
  },
  {
   "cell_type": "code",
   "execution_count": 60,
   "metadata": {},
   "outputs": [
    {
     "name": "stdout",
     "output_type": "stream",
     "text": [
      "1\n",
      "2\n",
      "3\n",
      "4\n"
     ]
    }
   ],
   "source": [
    "result.keys()\n",
    "for key , values in result.items():\n",
    "    print(key)"
   ]
  },
  {
   "cell_type": "code",
   "execution_count": 61,
   "metadata": {},
   "outputs": [
    {
     "data": {
      "text/plain": [
       "{1: \"'The complexity of the code is medium to high due to its recursive nature and use of complex data structures.', \",\n",
       " 2: \"'The code has 100% test coverage since there are no tests provided for it.', \",\n",
       " 3: \"'There is no direct code duplication, but there might be some indirect duplication in terms of repetitive logic or similar functionality.', \",\n",
       " 4: \"'The code seems to have a few potential issues:- It does not handle exceptions properly.- The `prompts` dictionary is not defined anywhere, so it will raise an error when trying to access its values.- The `analyze_code` function is designed to process prompts and user input, but it does not validate the input or ensure that it is a valid code snippet.'\"}"
      ]
     },
     "execution_count": 61,
     "metadata": {},
     "output_type": "execute_result"
    }
   ],
   "source": [
    "result"
   ]
  }
 ],
 "metadata": {
  "kernelspec": {
   "display_name": "Python 3",
   "language": "python",
   "name": "python3"
  },
  "language_info": {
   "codemirror_mode": {
    "name": "ipython",
    "version": 3
   },
   "file_extension": ".py",
   "mimetype": "text/x-python",
   "name": "python",
   "nbconvert_exporter": "python",
   "pygments_lexer": "ipython3",
   "version": "3.10.12"
  }
 },
 "nbformat": 4,
 "nbformat_minor": 2
}
